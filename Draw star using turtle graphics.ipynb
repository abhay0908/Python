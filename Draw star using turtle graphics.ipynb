{
 "cells": [
  {
   "cell_type": "code",
   "execution_count": 1,
   "id": "60928e0f",
   "metadata": {},
   "outputs": [],
   "source": [
    "# import for turtle\n",
    "import turtle\n",
    " \n",
    "# Starting a Working Screen\n",
    "ws = turtle.Screen()\n",
    " \n",
    "# initializing a turtle instance\n",
    "geekyTurtle = turtle.Turtle()\n",
    " \n",
    "# executing loop 5 times for a star\n",
    "for i in range(5):\n",
    " \n",
    "        # moving turtle 100 units forward\n",
    "        geekyTurtle.forward(100)\n",
    " \n",
    "        # rotating turtle 144 degree right\n",
    "        geekyTurtle.right(144)"
   ]
  },
  {
   "cell_type": "code",
   "execution_count": null,
   "id": "f7270848",
   "metadata": {},
   "outputs": [],
   "source": []
  }
 ],
 "metadata": {
  "kernelspec": {
   "display_name": "Python 3",
   "language": "python",
   "name": "python3"
  },
  "language_info": {
   "codemirror_mode": {
    "name": "ipython",
    "version": 3
   },
   "file_extension": ".py",
   "mimetype": "text/x-python",
   "name": "python",
   "nbconvert_exporter": "python",
   "pygments_lexer": "ipython3",
   "version": "3.8.8"
  }
 },
 "nbformat": 4,
 "nbformat_minor": 5
}
