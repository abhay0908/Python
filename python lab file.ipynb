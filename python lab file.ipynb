{
 "cells": [
  {
   "cell_type": "code",
   "execution_count": 1,
   "id": "e90ebb3c",
   "metadata": {},
   "outputs": [
    {
     "name": "stdout",
     "output_type": "stream",
     "text": [
      "200.96\n",
      "50.24\n"
     ]
    }
   ],
   "source": [
    "class Circle():\n",
    "    def __init__(self, r):\n",
    "        self.radius = r\n",
    "\n",
    "    def area(self):\n",
    "        return self.radius**2*3.14\n",
    "    \n",
    "    def perimeter(self):\n",
    "        return 2*self.radius*3.14\n",
    "\n",
    "NewCircle = Circle(8)\n",
    "print(NewCircle.area())\n",
    "print(NewCircle.perimeter())\n"
   ]
  },
  {
   "cell_type": "code",
   "execution_count": 2,
   "id": "3eaf83db",
   "metadata": {},
   "outputs": [
    {
     "name": "stdout",
     "output_type": "stream",
     "text": [
      "Enter the Radius of Circle: 8\n",
      "\n",
      "Area =  602.88\n"
     ]
    }
   ],
   "source": [
    "class Circle:\n",
    "    def areaOfCircle(self, rad):\n",
    "        ar = 3*3.14*rad*rad\n",
    "        return ar\n",
    "\n",
    "print(\"Enter the Radius of Circle: \", end=\"\")\n",
    "r = float(input())\n",
    "\n",
    "CCobj = Circle()\n",
    "a = CCobj.areaOfCircle(r)\n",
    "\n",
    "print(\"\\nArea = \", a)\n"
   ]
  },
  {
   "cell_type": "code",
   "execution_count": 3,
   "id": "11cd4d9d",
   "metadata": {},
   "outputs": [
    {
     "name": "stdout",
     "output_type": "stream",
     "text": [
      "10\n"
     ]
    }
   ],
   "source": [
    "# Program to show the use of lambda functions\n",
    "double = lambda x: x * 2\n",
    "\n",
    "print(double(5))"
   ]
  },
  {
   "cell_type": "code",
   "execution_count": 4,
   "id": "88245a8a",
   "metadata": {},
   "outputs": [
    {
     "name": "stdout",
     "output_type": "stream",
     "text": [
      "[2, 4]\n"
     ]
    }
   ],
   "source": [
    "# Python code to filter even values from a list\n",
    "\n",
    "# Initialisation of list\n",
    "lis = [1,2,3,4,5]\n",
    "\n",
    "# Output list initialisation\n",
    "out = []\n",
    "\n",
    "for num in lis:\n",
    "\t\n",
    "\t# checking condition\n",
    "\tif num % 2 == 0:\n",
    "\t\tout.append(num)\n",
    "\t\t\n",
    "\n",
    "# printing output\n",
    "print(out)\n",
    "\n"
   ]
  },
  {
   "cell_type": "code",
   "execution_count": 5,
   "id": "5aea8f70",
   "metadata": {},
   "outputs": [
    {
     "name": "stdout",
     "output_type": "stream",
     "text": [
      "Rodger details:\n",
      "Rodger is a dog\n",
      "Breed:  Pug\n",
      "Color:  brown\n",
      "\n",
      "Buzo details:\n",
      "Buzo is a dog\n",
      "Breed:  Bulldog\n",
      "Color:  black\n",
      "\n",
      "Accessing class variable using class name\n",
      "dog\n"
     ]
    }
   ],
   "source": [
    "# Python3 program to show that the variables with a value\n",
    "# assigned in the class declaration, are class variables and\n",
    "# variables inside methods and constructors are instance\n",
    "# variables.\n",
    "\t\n",
    "# Class for Dog\n",
    "class Dog:\n",
    "\n",
    "\t# Class Variable\n",
    "\tanimal = 'dog'\t\t\t\n",
    "\n",
    "\t# The init method or constructor\n",
    "\tdef __init__(self, breed, color):\n",
    "\t\n",
    "\t\t# Instance Variable\t\n",
    "\t\tself.breed = breed\n",
    "\t\tself.color = color\t\n",
    "\t\n",
    "# Objects of Dog class\n",
    "Rodger = Dog(\"Pug\", \"brown\")\n",
    "Buzo = Dog(\"Bulldog\", \"black\")\n",
    "\n",
    "print('Rodger details:')\n",
    "print('Rodger is a', Rodger.animal)\n",
    "print('Breed: ', Rodger.breed)\n",
    "print('Color: ', Rodger.color)\n",
    "\n",
    "print('\\nBuzo details:')\n",
    "print('Buzo is a', Buzo.animal)\n",
    "print('Breed: ', Buzo.breed)\n",
    "print('Color: ', Buzo.color)\n",
    "\n",
    "# Class variables can be accessed using class\n",
    "# name also\n",
    "print(\"\\nAccessing class variable using class name\")\n",
    "print(Dog.animal)\t\n",
    "\n"
   ]
  },
  {
   "cell_type": "code",
   "execution_count": 6,
   "id": "be33f138",
   "metadata": {},
   "outputs": [
    {
     "name": "stdout",
     "output_type": "stream",
     "text": [
      "Name:  R2J\n",
      "Roll:  1706256\n"
     ]
    }
   ],
   "source": [
    "# program to illustrate protected\n",
    "# data members in a class\n",
    "\n",
    "\n",
    "# Defining a class\n",
    "class SRM:\n",
    "\t\n",
    "\t# protected data members\n",
    "\t_name = \"R2J\"\n",
    "\t_roll = 1706256\n",
    "\t\n",
    "\t# public member function\n",
    "\tdef displayNameAndRoll(self):\n",
    "\n",
    "\t\t# accessing protected data members\n",
    "\t\tprint(\"Name: \", self._name)\n",
    "\t\tprint(\"Roll: \", self._roll)\n",
    "\n",
    "\n",
    "# creating objects of the class\t\t\n",
    "obj = SRM()\n",
    "\n",
    "# calling public member\n",
    "# functions of the class\n",
    "obj.displayNameAndRoll()\n",
    "\n"
   ]
  },
  {
   "cell_type": "code",
   "execution_count": 7,
   "id": "ef577a6f",
   "metadata": {},
   "outputs": [
    {
     "name": "stdout",
     "output_type": "stream",
     "text": [
      "Ram1 False\n",
      "Ram2 True\n"
     ]
    }
   ],
   "source": [
    "# A Python program to demonstrate inheritance\n",
    "\n",
    "\n",
    "class Person(object):\n",
    "\t\n",
    "\t# Constructor\n",
    "\tdef __init__(self, name):\n",
    "\t\tself.name = name\n",
    "\n",
    "\t# To get name\n",
    "\tdef getName(self):\n",
    "\t\treturn self.name\n",
    "\n",
    "\t# To check if this person is an employee\n",
    "\tdef isEmployee(self):\n",
    "\t\treturn False\n",
    "\n",
    "\n",
    "# Inherited or Subclass (Note Person in bracket)\n",
    "class Employee(Person):\n",
    "\n",
    "\t# Here we return true\n",
    "\tdef isEmployee(self):\n",
    "\t\treturn True\n",
    "\n",
    "# Driver code\n",
    "emp = Person(\"Ram1\") # An Object of Person\n",
    "print(emp.getName(), emp.isEmployee())\n",
    "\n",
    "emp = Employee(\"Ram2\") # An Object of Employee\n",
    "print(emp.getName(), emp.isEmployee())\n",
    "\n"
   ]
  },
  {
   "cell_type": "code",
   "execution_count": 9,
   "id": "44edfb60",
   "metadata": {},
   "outputs": [
    {
     "name": "stdout",
     "output_type": "stream",
     "text": [
      "In Class2\n"
     ]
    }
   ],
   "source": [
    "# Python Program to depict multiple inheritance\n",
    "# when method is overridden in both classes\n",
    "\n",
    "class Class1:\n",
    "\tdef m(self):\n",
    "\t\tprint(\"In Class1\")\n",
    "\t\n",
    "class Class2(Class1):\n",
    "\tdef m(self):\n",
    "\t\tprint(\"In Class2\")\n",
    "\n",
    "class Class3(Class1):\n",
    "\tdef m(self):\n",
    "\t\tprint(\"In Class3\")\n",
    "\t\t\n",
    "class Class4(Class2, Class3):\n",
    "\tpass\n",
    "\t\n",
    "obj = Class4()\n",
    "obj.m()\n",
    "\n"
   ]
  },
  {
   "cell_type": "code",
   "execution_count": 10,
   "id": "e69c5de4",
   "metadata": {},
   "outputs": [
    {
     "name": "stdout",
     "output_type": "stream",
     "text": [
      "dog barking\n",
      "Animal Speaking\n",
      "Eating bread...\n"
     ]
    }
   ],
   "source": [
    "class Animal:  \n",
    "    def speak(self):  \n",
    "        print(\"Animal Speaking\")  \n",
    "#The child class Dog inherits the base class Animal  \n",
    "class Dog(Animal):  \n",
    "    def bark(self):  \n",
    "        print(\"dog barking\")  \n",
    "#The child class Dogchild inherits another child class Dog  \n",
    "class DogChild(Dog):  \n",
    "    def eat(self):  \n",
    "        print(\"Eating bread...\")  \n",
    "d = DogChild()  \n",
    "d.bark()  \n",
    "d.speak()  \n",
    "d.eat()  \n"
   ]
  },
  {
   "cell_type": "code",
   "execution_count": null,
   "id": "f7a007ef",
   "metadata": {},
   "outputs": [],
   "source": []
  }
 ],
 "metadata": {
  "kernelspec": {
   "display_name": "Python 3",
   "language": "python",
   "name": "python3"
  },
  "language_info": {
   "codemirror_mode": {
    "name": "ipython",
    "version": 3
   },
   "file_extension": ".py",
   "mimetype": "text/x-python",
   "name": "python",
   "nbconvert_exporter": "python",
   "pygments_lexer": "ipython3",
   "version": "3.8.8"
  }
 },
 "nbformat": 4,
 "nbformat_minor": 5
}
